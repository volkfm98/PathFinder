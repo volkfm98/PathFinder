{
 "cells": [
  {
   "cell_type": "code",
   "execution_count": 5,
   "metadata": {},
   "outputs": [],
   "source": [
    "import cv2\n",
    "import numpy as np\n",
    "from sklearn.svm import SVC\n",
    "\n",
    "class PathFinder: \n",
    "    def __init__(self,model,source=0):\n",
    "        self.model=model\n",
    "        self.cap=cv2.VideoCapture(source)\n",
    "            \n",
    "    def __hog(self,img,step):\n",
    "        gx = cv2.Sobel(img, cv2.CV_32F, 1, 0)\n",
    "        gy = cv2.Sobel(img, cv2.CV_32F, 0, 1)\n",
    "        mag, ang = cv2.cartToPolar(gx, gy)\n",
    "        bin_n = 16 # Number of bins\n",
    "        bin = np.int32(bin_n*ang/(2*np.pi))\n",
    "        bin_cells = []\n",
    "        mag_cells = []\n",
    "        cellx = celly = step   \n",
    "        for i in range(0,int(img.shape[0]/celly)):\n",
    "            for j in range(0,int(img.shape[1]/cellx)):\n",
    "                bin_cells.append(bin[i*celly : i*celly+celly, j*cellx : j*cellx+cellx])\n",
    "                mag_cells.append(mag[i*celly : i*celly+celly, j*cellx : j*cellx+cellx])   \n",
    "\n",
    "        hists = [np.bincount(b.ravel(), m.ravel(), bin_n) for b, m in zip(bin_cells, mag_cells)]\n",
    "        hist = np.hstack(hists)\n",
    "        eps = 1e-7\n",
    "        hist /= hist.sum() + eps\n",
    "        hist = np.sqrt(hist)\n",
    "        hist /= norm(hist) + eps\n",
    "        return hist\n",
    "    \n",
    "    def __getHOGFeatures(self,X,step):\n",
    "        return [hog(x,step) for x in X]\n",
    "    \n",
    "    def StartRide(self):\n",
    "        frame=self.cap.read()[1]\n",
    "        while(self.cap.isOpened()):\n",
    "            frame=self.cap.read()[1]\n",
    "            frame = cv2.GaussianBlur(frame,(3,3),0)\n",
    "            predict=self.__detectSigns(frame)\n",
    "            # ADD YOUR MODULES HERE\n",
    "            cv2.imshow('frame2',frame)\n",
    "            if cv2.waitKey(2) & 0xFF == ord(\"q\"):\n",
    "                        break\n",
    "        self.cap.release()\n",
    "        cv2.destroyAllWindows()\n",
    "    \n",
    "    def __detectSigns(self,frame):\n",
    "        frame = cv2.resize(frame,(240, 320), interpolation = cv2.INTER_CUBIC)\n",
    "        r,g,b = cv2.split(frame)    \n",
    "        circles = cv2.HoughCircles(b,cv2.HOUGH_GRADIENT,1,50,param1=56,param2=80,minRadius=5,maxRadius=50)\n",
    "        if(circles != None):\n",
    "            for i in circles[0,:]:\n",
    "                cut_frame = cv2.resize(frame,(20, 20), interpolation = cv2.INTER_CUBIC)\n",
    "                cv2.imshow('frame1',frame)\n",
    "                cv2.imshow('frame2',b)\n",
    "        return 0\n",
    "    \n",
    "    \n",
    "    "
   ]
  },
  {
   "cell_type": "code",
   "execution_count": null,
   "metadata": {},
   "outputs": [],
   "source": [
    "One = PathFinder('1',\"C:\\\\Users\\\\Limon\\\\Desktop\\\\PathFinder\\\\04.mp4\")\n",
    "One.StartRide()"
   ]
  },
  {
   "cell_type": "code",
   "execution_count": null,
   "metadata": {
    "collapsed": true
   },
   "outputs": [],
   "source": []
  }
 ],
 "metadata": {
  "kernelspec": {
   "display_name": "Python 3",
   "language": "python",
   "name": "python3"
  },
  "language_info": {
   "codemirror_mode": {
    "name": "ipython",
    "version": 3
   },
   "file_extension": ".py",
   "mimetype": "text/x-python",
   "name": "python",
   "nbconvert_exporter": "python",
   "pygments_lexer": "ipython3",
   "version": "3.6.2"
  }
 },
 "nbformat": 4,
 "nbformat_minor": 2
}
