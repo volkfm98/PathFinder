{
 "cells": [
  {
   "cell_type": "code",
   "execution_count": 1,
   "metadata": {},
   "outputs": [
    {
     "name": "stderr",
     "output_type": "stream",
     "text": [
      "Using TensorFlow backend.\n"
     ]
    },
    {
     "name": "stdout",
     "output_type": "stream",
     "text": [
      "Loaded model from disk\n"
     ]
    }
   ],
   "source": [
    "from keras.models import model_from_yaml\n",
    "yaml_file = open('model.yaml', 'r')\n",
    "loaded_model_yaml = yaml_file.read()\n",
    "yaml_file.close()\n",
    "model = model_from_yaml(loaded_model_yaml)\n",
    "# load weights into new model\n",
    "model.load_weights(\"model.h5\")\n",
    "print(\"Loaded model from disk\")"
   ]
  },
  {
   "cell_type": "code",
   "execution_count": 2,
   "metadata": {
    "collapsed": true
   },
   "outputs": [],
   "source": [
    "def detectSigns(frame,printFlag):\n",
    "        #noramalization\n",
    "    frame2 = cv2.medianBlur(frame,3)      \n",
    "    frame2 = cv2.GaussianBlur(frame2,(3,3),2) #important for finding circles!\n",
    "        #masking\n",
    "    hsv_image_1 = cv2.cvtColor(frame2, cv2.COLOR_BGR2HSV)\n",
    "    low_blue = (95,100,100)\n",
    "    hight_blue = (120,255,255)\n",
    "    mask = cv2.inRange(hsv_image_1, low_blue, hight_blue)  \n",
    "    if(printFlag):\n",
    "        cv2.imshow('Mask_Signs',mask)  \n",
    "    circles = cv2.HoughCircles(mask,cv2.HOUGH_GRADIENT,1,50,param1=70,param2=10,minRadius=10,maxRadius=40) #let's change params\n",
    "    pred=[]\n",
    "    if np.all(circles) != None:\n",
    "        circles = np.round(circles[0, :]).astype(\"int\")\n",
    "        for (x, y, r) in circles:\n",
    "            if((x-r) > 0 and (x+r) >0 and (y-r)>0 and (y+r)>0):\n",
    "                cut_frame = frame2[y-r:y+r,x-r:x+r]\n",
    "                cut_frame = cv2.resize(cut_frame,(32, 32), interpolation = cv2.INTER_CUBIC)\n",
    "                k = model.predict(np.expand_dims(np.array(cut_frame.astype(\"float\") / 255.0), axis=0))\n",
    "#                print(k)\n",
    "                maximum = max(k[0])\n",
    "                \n",
    "                index = np.where(k[0] == maximum)[0][0]\n",
    "                print(str(maximum)+\" \"+str(index))\n",
    "                if(maximum>0.9):\n",
    "                    print(str(maximum)+\" \"+str(index))\n",
    "                    pred.append(index)\n",
    "                    if(printFlag):\n",
    "                        frame = cv2.rectangle(frame,(x-r,y-r),(x+r,y+r),(0,0,255),2)            \n",
    "                        cv2.imshow('Sign_cut:'+str(index),cut_frame)\n",
    "    return pred"
   ]
  },
  {
   "cell_type": "code",
   "execution_count": 3,
   "metadata": {
    "collapsed": true
   },
   "outputs": [],
   "source": [
    "import cv2\n",
    "import numpy as np\n",
    "\n",
    "cap=cv2.VideoCapture(\"signs_test.mp4\")\n",
    "frame=cap.read()[1]\n",
    "\n",
    "while(cap.isOpened() and len(frame)>0):\n",
    "    frame = cv2.resize(frame,(640,480), interpolation = cv2.INTER_CUBIC)\n",
    "\n",
    "    pred = detectSigns(frame,True)\n",
    "    cv2.imshow('frame2',frame)\n",
    "    if cv2.waitKey(100) & 0xFF == ord(\"q\"):\n",
    "        break\n",
    "    frame = cap.read()[1]\n",
    "    \n",
    "    \n",
    "cap.release()        \n",
    "cv2.destroyAllWindows()"
   ]
  },
  {
   "cell_type": "code",
   "execution_count": null,
   "metadata": {
    "collapsed": true
   },
   "outputs": [],
   "source": []
  }
 ],
 "metadata": {
  "kernelspec": {
   "display_name": "Python 3",
   "language": "python",
   "name": "python3"
  },
  "language_info": {
   "codemirror_mode": {
    "name": "ipython",
    "version": 3
   },
   "file_extension": ".py",
   "mimetype": "text/x-python",
   "name": "python",
   "nbconvert_exporter": "python",
   "pygments_lexer": "ipython3",
   "version": "3.6.2"
  }
 },
 "nbformat": 4,
 "nbformat_minor": 2
}
