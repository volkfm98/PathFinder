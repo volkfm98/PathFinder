{
 "cells": [
  {
   "cell_type": "code",
   "execution_count": null,
   "metadata": {
    "collapsed": true
   },
   "outputs": [],
   "source": [
    "from keras.models import model_from_yaml\n",
    "yaml_file = open('model.yaml', 'r')\n",
    "loaded_model_yaml = yaml_file.read()\n",
    "yaml_file.close()\n",
    "model = model_from_yaml(loaded_model_yaml)\n",
    "# load weights into new model\n",
    "model.load_weights(\"model.h5\")\n",
    "print(\"Loaded model from disk\")"
   ]
  },
  {
   "cell_type": "code",
   "execution_count": 1,
   "metadata": {
    "collapsed": true
   },
   "outputs": [],
   "source": [
    "from PIL import Image\n",
    "from skimage import io\n",
    "\n",
    "import os\n",
    "import cv2\n",
    "import matplotlib.pyplot as plt\n",
    "import matplotlib.image as mpimg\n",
    "from sklearn.externals import joblib\n",
    "import numpy as np\n",
    "\n",
    "class PathFinder: \n",
    "    def __init__(self,model_source,video_source='test2.mp4'):\n",
    "        self.clf = joblib.load(model_source)\n",
    "        self.cap=cv2.VideoCapture(video_source)\n",
    "            \n",
    "    \n",
    "    def StartRide(self):\n",
    "        frame=self.cap.read()[1]\n",
    "        while(self.cap.isOpened()):\n",
    "            frame=self.cap.read()[1]\n",
    "            frame = cv2.resize(frame,(640, 380), interpolation = cv2.INTER_CUBIC)\n",
    "            #frame = cv2.GaussianBlur(frame,(3,3),0)\n",
    "            predict=self.__detectSigns(frame)\n",
    "            cv2.imshow('frame2',frame)\n",
    "            if cv2.waitKey(2) & 0xFF == ord(\"q\"):\n",
    "                break     \n",
    "        self.cap.release()\n",
    "        cv2.destroyAllWindows()\n",
    "    \n",
    "    def __detectSigns(self,frame):\n",
    "        pred = []\n",
    "        low_red = (0,0,200)\n",
    "        hight_red = (140,140,255)\n",
    "        mask = cv2.inRange(frame, low_red, hight_red)\n",
    "        cont = cv2.findContours(mask,cv2.RETR_LIST,cv2.CHAIN_APPROX_NONE)[1]\n",
    "        for cnt in cont:\n",
    "            moments = cv2.moments(cnt, 255)\n",
    "            dM01 = moments['m01']\n",
    "            dM10 = moments['m10']\n",
    "            dArea = moments['m00']\n",
    "            if dArea > 30:                #Отбрасывание контуров по площади\n",
    "                x = int(dM10 / dArea) # x координата центра масс контура\n",
    "                y = int(dM01 / dArea) # у координата цента масс контура\n",
    "                #L,R,T,B - кайние точки контура, левая, правая, верхняя, нижняя соответственно\n",
    "                L = tuple(cnt[cnt[:, :, 0].argmin()][0])\n",
    "                R = tuple(cnt[cnt[:, :, 0].argmax()][0])\n",
    "                T = tuple(cnt[cnt[:, :, 1].argmin()][0])\n",
    "                B = tuple(cnt[cnt[:, :, 1].argmax()][0])\n",
    "                diam1 = R[0] - L[0]\n",
    "                diam2 = B[1] - T[1]\n",
    "                r = int((diam1+diam2)/4) # средний радиус контура\n",
    "                if(y > 3*r and x > 3*r and diam1/diam2 > 0.85 and diam1/diam2 < 1.15): # первые 2 условия для корректного вырезания контура\n",
    "                    cut_frame = []\n",
    "                    if r < 5: # С этими условиями результат получается лучше\n",
    "                        cut_frame = frame[(y-r*3):(y+r*9),(x-r*3):(x+r*3)]\n",
    "                    else:\n",
    "                        cut_frame = frame[(y-r*2):(y+r*7),(x-r*2):(x+r*2)]\n",
    "                    cut_frame = cv2.resize(cut_frame,(16, 48), interpolation = cv2.INTER_CUBIC)\n",
    "                    hog=self.__hog(cut_frame,8)\n",
    "                    if self.clf.predict_proba([hog])[0][1] > 0.8:\n",
    "                        pred = cv2.rectangle(frame,(x-r*3,y-r*3),(x+r*3,y+r*8),(0,0,255),2)\n",
    "        return pred"
   ]
  },
  {
   "cell_type": "code",
   "execution_count": 2,
   "metadata": {},
   "outputs": [
    {
     "ename": "FileNotFoundError",
     "evalue": "[Errno 2] No such file or directory: 'D:model_semafors.pkl'",
     "output_type": "error",
     "traceback": [
      "\u001b[1;31m---------------------------------------------------------------------------\u001b[0m",
      "\u001b[1;31mFileNotFoundError\u001b[0m                         Traceback (most recent call last)",
      "\u001b[1;32m<ipython-input-2-57eaa88ede40>\u001b[0m in \u001b[0;36m<module>\u001b[1;34m()\u001b[0m\n\u001b[1;32m----> 1\u001b[1;33m \u001b[0masdf\u001b[0m \u001b[1;33m=\u001b[0m \u001b[0mPathFinder\u001b[0m\u001b[1;33m(\u001b[0m\u001b[1;34m'D:model_semafors.pkl'\u001b[0m\u001b[1;33m)\u001b[0m\u001b[1;33m\u001b[0m\u001b[0m\n\u001b[0m\u001b[0;32m      2\u001b[0m \u001b[0masdf\u001b[0m\u001b[1;33m.\u001b[0m\u001b[0mStartRide\u001b[0m\u001b[1;33m(\u001b[0m\u001b[1;33m)\u001b[0m\u001b[1;33m\u001b[0m\u001b[0m\n",
      "\u001b[1;32m<ipython-input-1-b148e4990df6>\u001b[0m in \u001b[0;36m__init__\u001b[1;34m(self, model_source, video_source)\u001b[0m\n\u001b[0;32m     11\u001b[0m \u001b[1;32mclass\u001b[0m \u001b[0mPathFinder\u001b[0m\u001b[1;33m:\u001b[0m\u001b[1;33m\u001b[0m\u001b[0m\n\u001b[0;32m     12\u001b[0m     \u001b[1;32mdef\u001b[0m \u001b[0m__init__\u001b[0m\u001b[1;33m(\u001b[0m\u001b[0mself\u001b[0m\u001b[1;33m,\u001b[0m\u001b[0mmodel_source\u001b[0m\u001b[1;33m,\u001b[0m\u001b[0mvideo_source\u001b[0m\u001b[1;33m=\u001b[0m\u001b[1;34m'test2.mp4'\u001b[0m\u001b[1;33m)\u001b[0m\u001b[1;33m:\u001b[0m\u001b[1;33m\u001b[0m\u001b[0m\n\u001b[1;32m---> 13\u001b[1;33m         \u001b[0mself\u001b[0m\u001b[1;33m.\u001b[0m\u001b[0mclf\u001b[0m \u001b[1;33m=\u001b[0m \u001b[0mjoblib\u001b[0m\u001b[1;33m.\u001b[0m\u001b[0mload\u001b[0m\u001b[1;33m(\u001b[0m\u001b[0mmodel_source\u001b[0m\u001b[1;33m)\u001b[0m\u001b[1;33m\u001b[0m\u001b[0m\n\u001b[0m\u001b[0;32m     14\u001b[0m         \u001b[0mself\u001b[0m\u001b[1;33m.\u001b[0m\u001b[0mcap\u001b[0m\u001b[1;33m=\u001b[0m\u001b[0mcv2\u001b[0m\u001b[1;33m.\u001b[0m\u001b[0mVideoCapture\u001b[0m\u001b[1;33m(\u001b[0m\u001b[0mvideo_source\u001b[0m\u001b[1;33m)\u001b[0m\u001b[1;33m\u001b[0m\u001b[0m\n\u001b[0;32m     15\u001b[0m \u001b[1;33m\u001b[0m\u001b[0m\n",
      "\u001b[1;32mD:\\Anaconda\\lib\\site-packages\\sklearn\\externals\\joblib\\numpy_pickle.py\u001b[0m in \u001b[0;36mload\u001b[1;34m(filename, mmap_mode)\u001b[0m\n\u001b[0;32m    568\u001b[0m             \u001b[0mobj\u001b[0m \u001b[1;33m=\u001b[0m \u001b[0m_unpickle\u001b[0m\u001b[1;33m(\u001b[0m\u001b[0mfobj\u001b[0m\u001b[1;33m)\u001b[0m\u001b[1;33m\u001b[0m\u001b[0m\n\u001b[0;32m    569\u001b[0m     \u001b[1;32melse\u001b[0m\u001b[1;33m:\u001b[0m\u001b[1;33m\u001b[0m\u001b[0m\n\u001b[1;32m--> 570\u001b[1;33m         \u001b[1;32mwith\u001b[0m \u001b[0mopen\u001b[0m\u001b[1;33m(\u001b[0m\u001b[0mfilename\u001b[0m\u001b[1;33m,\u001b[0m \u001b[1;34m'rb'\u001b[0m\u001b[1;33m)\u001b[0m \u001b[1;32mas\u001b[0m \u001b[0mf\u001b[0m\u001b[1;33m:\u001b[0m\u001b[1;33m\u001b[0m\u001b[0m\n\u001b[0m\u001b[0;32m    571\u001b[0m             \u001b[1;32mwith\u001b[0m \u001b[0m_read_fileobject\u001b[0m\u001b[1;33m(\u001b[0m\u001b[0mf\u001b[0m\u001b[1;33m,\u001b[0m \u001b[0mfilename\u001b[0m\u001b[1;33m,\u001b[0m \u001b[0mmmap_mode\u001b[0m\u001b[1;33m)\u001b[0m \u001b[1;32mas\u001b[0m \u001b[0mfobj\u001b[0m\u001b[1;33m:\u001b[0m\u001b[1;33m\u001b[0m\u001b[0m\n\u001b[0;32m    572\u001b[0m                 \u001b[1;32mif\u001b[0m \u001b[0misinstance\u001b[0m\u001b[1;33m(\u001b[0m\u001b[0mfobj\u001b[0m\u001b[1;33m,\u001b[0m \u001b[0m_basestring\u001b[0m\u001b[1;33m)\u001b[0m\u001b[1;33m:\u001b[0m\u001b[1;33m\u001b[0m\u001b[0m\n",
      "\u001b[1;31mFileNotFoundError\u001b[0m: [Errno 2] No such file or directory: 'D:model_semafors.pkl'"
     ]
    }
   ],
   "source": [
    "asdf = PathFinder('D:model_semafors.pkl')\n",
    "asdf.StartRide()"
   ]
  },
  {
   "cell_type": "code",
   "execution_count": null,
   "metadata": {
    "collapsed": true
   },
   "outputs": [],
   "source": []
  }
 ],
 "metadata": {
  "kernelspec": {
   "display_name": "Python 3",
   "language": "python",
   "name": "python3"
  },
  "language_info": {
   "codemirror_mode": {
    "name": "ipython",
    "version": 3
   },
   "file_extension": ".py",
   "mimetype": "text/x-python",
   "name": "python",
   "nbconvert_exporter": "python",
   "pygments_lexer": "ipython3",
   "version": "3.6.2"
  }
 },
 "nbformat": 4,
 "nbformat_minor": 2
}
