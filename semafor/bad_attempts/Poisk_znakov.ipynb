{
 "cells": [
  {
   "cell_type": "code",
   "execution_count": 4,
   "metadata": {
    "collapsed": true
   },
   "outputs": [],
   "source": [
    "from PIL import Image\n",
    "from skimage import io\n",
    "\n",
    "import os\n",
    "import cv2\n",
    "import matplotlib.pyplot as plt\n",
    "import matplotlib.image as mpimg\n",
    "from sklearn.externals import joblib\n",
    "import numpy as np"
   ]
  },
  {
   "cell_type": "code",
   "execution_count": 5,
   "metadata": {
    "collapsed": true
   },
   "outputs": [],
   "source": [
    "class PathFinder: \n",
    "    def __init__(self,model_source,video_source=0):\n",
    "        self.clf = joblib.load(model_source)\n",
    "        self.cap=cv2.VideoCapture(video_source)\n",
    "            \n",
    "    def __hog(self,img,step):\n",
    "        from cv2 import HOGDescriptor\n",
    "        winSize = (16,16)\n",
    "        blockSize = (16,16)\n",
    "        blockStride = (8,8)\n",
    "        cellSize = (8,8)\n",
    "        nbins = 9\n",
    "        derivAperture = 1\n",
    "        winSigma = 4.\n",
    "        histogramNormType = 0\n",
    "        L2HysThreshold = 2.0000000000000001e-01\n",
    "        gammaCorrection = 0\n",
    "        nlevels = 64\n",
    "        hog = HOGDescriptor(winSize,blockSize,blockStride,cellSize,nbins,derivAperture,winSigma,\n",
    "                            histogramNormType,L2HysThreshold,gammaCorrection,nlevels)\n",
    "        winStride = (8,8)\n",
    "        padding = (16,16)\n",
    "        hist = hog.compute(img,winStride,padding)\n",
    "        return np.reshape(hist, 4356)\n",
    "    \n",
    "    def StartRide(self):\n",
    "        frame=self.cap.read()[1]\n",
    "        while(self.cap.isOpened()):\n",
    "            frame=self.cap.read()[1]\n",
    "            frame = cv2.GaussianBlur(frame,(3,3),0)\n",
    "            predict=self.__detectSigns(frame)\n",
    "            #HERE ADD YOUR MODULES\n",
    "            if predict != []:\n",
    "                if predict[0] == 0:\n",
    "                    print('forward')\n",
    "                if predict[0] == 1:\n",
    "                    print('left')\n",
    "                if predict[0] == 2:\n",
    "                    print('leftForward')\n",
    "                if predict[0] == 3:\n",
    "                    print('stop')\n",
    "                if predict[0] == 4:\n",
    "                    print('right')\n",
    "                if predict[0] == 5:\n",
    "                    print('rightForward')\n",
    "            cv2.imshow('frame2',frame)\n",
    "            if cv2.waitKey(2) & 0xFF == ord(\"q\"):\n",
    "                break     \n",
    "        self.cap.release()\n",
    "        cv2.destroyAllWindows()\n",
    "    \n",
    "    def __detectSigns(self,frame):\n",
    "        frame = cv2.resize(frame,(320, 240), interpolation = cv2.INTER_CUBIC)\n",
    "        r,g,b = cv2.split(frame)    \n",
    "        circles1 = cv2.HoughCircles(b,cv2.HOUGH_GRADIENT,1,50,param1=100,param2=75,minRadius=20,maxRadius=100)\n",
    "        circles2 = cv2.HoughCircles(r,cv2.HOUGH_GRADIENT,1,50,param1=100,param2=85,minRadius=20,maxRadius=100)\n",
    "        pred=[]\n",
    "        if circles1 is not None:q\n",
    "            circles1 = np.uint16(np.around(circles1))\n",
    "            for i in circles1[0,:]:\n",
    "                cut_frame = frame[(i[1]-i[2]-5):(i[1]+i[2]+5),(i[0]-i[2]-5):(i[0]+i[2]+5)]\n",
    "                cut_frame = cv2.resize(cut_frame,(64, 64), interpolation = cv2.INTER_CUBIC)\n",
    "                hog=self.__hog(cut_frame,8)\n",
    "                k = self.clf.predict_proba([hog])\n",
    "                for j in k[0]:\n",
    "                    if j > 0.8:\n",
    "                        l = np.array([hog])\n",
    "                        h = self.clf.predict(l)\n",
    "                        pred.append(h[0])   \n",
    "        if circles2 is not None:\n",
    "            circles2 = np.uint16(np.around(circles2))\n",
    "            for i in circles2[0,:]:\n",
    "                cut_frame = frame[(i[1]-i[2]-5):(i[1]+i[2]+5),(i[0]-i[2]-5):(i[0]+i[2]+5)]\n",
    "                cut_frame = cv2.resize(cut_frame,(64, 64), interpolation = cv2.INTER_CUBIC)\n",
    "                hog=self.__hog(cut_frame,8)\n",
    "                k = self.clf.predict_proba([hog])\n",
    "                for j in k[0]:\n",
    "                    if j > 0.8:\n",
    "                        l = np.array([hog])\n",
    "                        h = self.clf.predict(l)\n",
    "                        pred.append(h[0])\n",
    "        return pred "
   ]
  },
  {
   "cell_type": "code",
   "execution_count": 6,
   "metadata": {
    "collapsed": true,
    "scrolled": true
   },
   "outputs": [],
   "source": [
    "asdf = PathFinder('C:\\\\Users\\\\pakli\\\\Downloads\\\\RoadSigns\\\\filename.pkl')\n",
    "asdf.StartRide()"
   ]
  },
  {
   "cell_type": "code",
   "execution_count": null,
   "metadata": {
    "collapsed": true
   },
   "outputs": [],
   "source": []
  }
 ],
 "metadata": {
  "kernelspec": {
   "display_name": "Python 3",
   "language": "python",
   "name": "python3"
  },
  "language_info": {
   "codemirror_mode": {
    "name": "ipython",
    "version": 3
   },
   "file_extension": ".py",
   "mimetype": "text/x-python",
   "name": "python",
   "nbconvert_exporter": "python",
   "pygments_lexer": "ipython3",
   "version": "3.6.2"
  }
 },
 "nbformat": 4,
 "nbformat_minor": 2
}
