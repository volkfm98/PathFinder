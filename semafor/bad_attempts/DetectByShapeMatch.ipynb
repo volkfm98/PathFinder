{
 "cells": [
  {
   "cell_type": "code",
   "execution_count": null,
   "metadata": {},
   "outputs": [
    {
     "name": "stdout",
     "output_type": "stream",
     "text": [
      "(-0.47095629572868347, 0.9851841926574707, (67, 76), (175, 10))\n"
     ]
    }
   ],
   "source": [
    "import cv2\n",
    "import numpy as np\n",
    "\n",
    "tpl = cv2.imread(\"1.png\",0)\n",
    "w,h = tpl.shape[::-1]\n",
    "w,h = int(w),int(h)\n",
    "tpl = cv2.resize(tpl,(w,h), interpolation = cv2.INTER_CUBIC)\n",
    "image = cv2.imread(\"s1.jpg\",0)\n",
    "#tpl = cv2.resize(tpl,0.5, interpolation = cv2.INTER_CUBIC)\n",
    "res = cv2.matchTemplate(image,tpl,cv2.TM_CCOEFF_NORMED)\n",
    "print(cv2.minMaxLoc(res))\n",
    "if(cv2.minMaxLoc(res)[1]>0.4):\n",
    "    top_left = cv2.minMaxLoc(res)[3]\n",
    "    bottom_right = (top_left[0] + w, top_left[1] + h)\n",
    "    cv2.rectangle(image,top_left, bottom_right, 255, 2)\n",
    "    cv2.imshow('frame',image)\n",
    "    cv2.waitKey(0)\n",
    "cv2.destroyAllWindows()"
   ]
  },
  {
   "cell_type": "code",
   "execution_count": null,
   "metadata": {
    "collapsed": true
   },
   "outputs": [],
   "source": []
  }
 ],
 "metadata": {
  "kernelspec": {
   "display_name": "Python 3",
   "language": "python",
   "name": "python3"
  },
  "language_info": {
   "codemirror_mode": {
    "name": "ipython",
    "version": 3
   },
   "file_extension": ".py",
   "mimetype": "text/x-python",
   "name": "python",
   "nbconvert_exporter": "python",
   "pygments_lexer": "ipython3",
   "version": "3.6.2"
  }
 },
 "nbformat": 4,
 "nbformat_minor": 2
}
