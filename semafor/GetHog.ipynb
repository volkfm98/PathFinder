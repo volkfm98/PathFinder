{
 "cells": [
  {
   "cell_type": "code",
   "execution_count": 21,
   "metadata": {
    "collapsed": true
   },
   "outputs": [],
   "source": [
    "from PIL import Image\n",
    "from skimage import io\n",
    "\n",
    "import os\n",
    "import cv2\n",
    "import matplotlib.pyplot as plt\n",
    "import matplotlib.image as mpimg\n",
    "import numpy as np\n",
    "\n",
    "def getImage(train_dir,images,labels,flag):\n",
    "    for file_name in os.listdir(train_dir):\n",
    "        file = train_dir + '/' + file_name\n",
    "        image = Image.open(file).convert('L')\n",
    "        image = image.resize((16, 48), Image.ANTIALIAS)\n",
    "        images.append(np.asarray(image))\n",
    "        labels.append(flag)\n",
    "        \n",
    "pos_dir = 'D:\\\\Anaconda\\\\projects\\\\semafor\\\\true'\n",
    "neg_dir = 'D:\\\\Anaconda\\\\projects\\\\semafor\\\\false'\n",
    "labels = []\n",
    "images = []\n",
    "getImage(pos_dir,images,labels,1)\n",
    "getImage(neg_dir,images,labels,0)\n",
    "\n",
    "from sklearn.model_selection import train_test_split\n",
    "\n",
    "X_train, X_test, y_train, y_test = train_test_split(images, labels, test_size = 1.0 / 8, random_state = 42)"
   ]
  },
  {
   "cell_type": "code",
   "execution_count": 23,
   "metadata": {},
   "outputs": [],
   "source": [
    "from cv2 import HOGDescriptor\n",
    "\n",
    "def compute_features(image):\n",
    "    winSize = (16,48)\n",
    "    blockSize = (16,16)\n",
    "    blockStride = (8,8)\n",
    "    cellSize = (8,8)\n",
    "    nbins = 9\n",
    "    derivAperture = 1\n",
    "    winSigma = 4.\n",
    "    histogramNormType = 0\n",
    "    L2HysThreshold = 2.0000000000000001e-01\n",
    "    gammaCorrection = 100\n",
    "    nlevels = 32\n",
    "    hog = HOGDescriptor(winSize,blockSize,blockStride,cellSize,nbins,derivAperture,winSigma,\n",
    "                        histogramNormType,L2HysThreshold,gammaCorrection,nlevels)\n",
    "    winStride = (8,8)\n",
    "    padding = (16,16)\n",
    "    hist = hog.compute(image,winStride,padding)\n",
    "    return np.reshape(hist, 4500)\n",
    "\n",
    "\n",
    "features_train = np.array([compute_features(im) for im in X_train])\n",
    "features_test = np.array([compute_features(im) for im in X_test])"
   ]
  },
  {
   "cell_type": "code",
   "execution_count": 29,
   "metadata": {
    "collapsed": true
   },
   "outputs": [],
   "source": [
    "from sklearn import svm\n",
    "clf = svm.SVC(C=100.0, cache_size=200, class_weight=None, coef0=0.0, degree=3, kernel='sigmoid', max_iter=-1, probability=True,\n",
    "  random_state=None, shrinking=True, tol=0.001, verbose=False)\n",
    "\n",
    "model = clf.fit(features_train, y_train)"
   ]
  },
  {
   "cell_type": "code",
   "execution_count": 30,
   "metadata": {},
   "outputs": [
    {
     "name": "stdout",
     "output_type": "stream",
     "text": [
      "             precision    recall  f1-score   support\n",
      "\n",
      "          0       1.00      0.79      0.88        14\n",
      "          1       0.85      1.00      0.92        17\n",
      "\n",
      "avg / total       0.92      0.90      0.90        31\n",
      "\n",
      "Score: 0.90\n"
     ]
    }
   ],
   "source": [
    "from sklearn import metrics\n",
    "from sklearn.metrics import mean_squared_error, accuracy_score\n",
    "\n",
    "Y_pred = model.predict(features_test)\n",
    "\n",
    "print(metrics.classification_report(y_test, Y_pred))\n",
    "print('Score: %.2f' % accuracy_score(y_test, Y_pred)) "
   ]
  },
  {
   "cell_type": "code",
   "execution_count": 31,
   "metadata": {},
   "outputs": [
    {
     "data": {
      "text/plain": [
       "['model_semafors.pkl']"
      ]
     },
     "execution_count": 31,
     "metadata": {},
     "output_type": "execute_result"
    }
   ],
   "source": [
    "from sklearn.externals import joblib\n",
    "joblib.dump(clf, 'model_semafors.pkl') "
   ]
  },
  {
   "cell_type": "code",
   "execution_count": null,
   "metadata": {
    "collapsed": true
   },
   "outputs": [],
   "source": []
  }
 ],
 "metadata": {
  "kernelspec": {
   "display_name": "Python 3",
   "language": "python",
   "name": "python3"
  },
  "language_info": {
   "codemirror_mode": {
    "name": "ipython",
    "version": 3
   },
   "file_extension": ".py",
   "mimetype": "text/x-python",
   "name": "python",
   "nbconvert_exporter": "python",
   "pygments_lexer": "ipython3",
   "version": "3.6.2"
  }
 },
 "nbformat": 4,
 "nbformat_minor": 2
}
