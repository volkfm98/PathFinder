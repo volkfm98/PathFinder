{
 "cells": [
  {
   "cell_type": "code",
   "execution_count": null,
   "metadata": {
    "scrolled": false
   },
   "outputs": [],
   "source": [
    "import cv2\n",
    "import numpy as np\n",
    "from sklearn.svm import SVC\n",
    "from sklearn.externals import joblib\n",
    "from cv2 import HOGDescriptor\n",
    "\n",
    "def compute_features(image):\n",
    "    winSize = (16,48)\n",
    "    blockSize = (16,16)\n",
    "    blockStride = (8,8)\n",
    "    cellSize = (8,8)\n",
    "    nbins = 9\n",
    "    derivAperture = 1\n",
    "    winSigma = 4.\n",
    "    histogramNormType = 0\n",
    "    L2HysThreshold = 2.0000000000000001e-01\n",
    "    gammaCorrection = 100\n",
    "    nlevels = 32\n",
    "    hog = HOGDescriptor(winSize,blockSize,blockStride,cellSize,nbins,derivAperture,winSigma,\n",
    "                        histogramNormType,L2HysThreshold,gammaCorrection,nlevels)\n",
    "    winStride = (8,8)\n",
    "    padding = (16,16)\n",
    "    hist = hog.compute(image,winStride,padding)\n",
    "    return np.reshape(hist, 4500)\n",
    "\n",
    "clf = joblib.load('model_semafors.pkl')\n",
    "\n",
    "cap = cv2.VideoCapture('test2.mp4')\n",
    "frame = cap.read()[1]\n",
    "frame = cv2.resize(frame,(640, 480), interpolation = cv2.INTER_CUBIC)\n",
    "height, width = frame.shape[:2]\n",
    "while(cap.isOpened()):\n",
    "    frame=cap.read()[1]\n",
    "    frame = cv2.resize(frame,(640, 360), interpolation = cv2.INTER_CUBIC)\n",
    "    low_red = (0,0,200)\n",
    "    hight_red = (140,140,255)\n",
    "    mask = cv2.inRange(frame, low_red, hight_red)\n",
    "    mask = cv2.Canny(mask,20,220)    \n",
    "    mask = cv2.dilate(mask, (3,3), iterations=1)\n",
    "    cont = cv2.findContours(mask,cv2.RETR_LIST,cv2.CHAIN_APPROX_NONE)[1] \n",
    "    for cnt in cont:\n",
    "        L = tuple(cnt[cnt[:, :, 0].argmin()][0])\n",
    "        R = tuple(cnt[cnt[:, :, 0].argmax()][0])\n",
    "        T = tuple(cnt[cnt[:, :, 1].argmin()][0])\n",
    "        B = tuple(cnt[cnt[:, :, 1].argmax()][0])\n",
    "        area = abs(cv2.contourArea(cnt))\n",
    "        perim = cv2.arcLength(cnt, True)\n",
    "        if(perim!=0):\n",
    "            if(perim>27 and cv2.matchShapes(cnt,cont[1],cv2.CONTOURS_MATCH_I3,0.0)<0.03):\n",
    "                diam = R[0] - L[0]\n",
    "                cv2.drawContours(frame,cnt,-1, (0, 255, 0), 1)\n",
    "                cut_frame = frame[(B[1]-diam):(T[1]+diam*4),(B[0]-diam):(T[0]+diam)]\n",
    "                if np.all(cut_frame) != None:\n",
    "                    cut_frame = cv2.resize(cut_frame,(16, 48), interpolation = cv2.INTER_CUBIC)\n",
    "                    pred = clf.predict_proba([compute_features(cut_frame)])[0][1]\n",
    "                    print(pred)\n",
    "                    if(pred>0.5):\n",
    "                        cv2.rectangle(frame,(B[0]-diam,B[1]-diam),(T[0]+diam,T[1]+diam*4),(0,0,255),2)\n",
    "    cv2.imshow('frame2',mask)\n",
    "    cv2.imshow('frame3',frame)\n",
    "    if cv2.waitKey(2) & 0xFF == ord(\"q\"):\n",
    "        break\n",
    "cap.release()\n",
    "cv2.destroyAllWindows()"
   ]
  },
  {
   "cell_type": "code",
   "execution_count": null,
   "metadata": {
    "collapsed": true
   },
   "outputs": [],
   "source": []
  }
 ],
 "metadata": {
  "kernelspec": {
   "display_name": "Python 3",
   "language": "python",
   "name": "python3"
  },
  "language_info": {
   "codemirror_mode": {
    "name": "ipython",
    "version": 3
   },
   "file_extension": ".py",
   "mimetype": "text/x-python",
   "name": "python",
   "nbconvert_exporter": "python",
   "pygments_lexer": "ipython3",
   "version": "3.6.2"
  }
 },
 "nbformat": 4,
 "nbformat_minor": 2
}
